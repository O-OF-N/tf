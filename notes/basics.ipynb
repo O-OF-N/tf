{
 "cells": [
  {
   "cell_type": "code",
   "execution_count": 1,
   "id": "9a2e32c9",
   "metadata": {},
   "outputs": [],
   "source": [
    "import tensorflow as tf"
   ]
  },
  {
   "cell_type": "code",
   "execution_count": 2,
   "id": "7f201cf2",
   "metadata": {},
   "outputs": [
    {
     "data": {
      "text/plain": [
       "'2.4.0'"
      ]
     },
     "execution_count": 2,
     "metadata": {},
     "output_type": "execute_result"
    }
   ],
   "source": [
    "tf.__version__"
   ]
  },
  {
   "cell_type": "markdown",
   "id": "c265e1aa",
   "metadata": {},
   "source": [
    "## Consntants"
   ]
  },
  {
   "cell_type": "code",
   "execution_count": 5,
   "id": "4c38e153",
   "metadata": {},
   "outputs": [],
   "source": [
    "a = tf.constant([[4,3],[2,4]])"
   ]
  },
  {
   "cell_type": "code",
   "execution_count": 6,
   "id": "0fcb441a",
   "metadata": {},
   "outputs": [
    {
     "name": "stdout",
     "output_type": "stream",
     "text": [
      "tf.Tensor(\n",
      "[[4 3]\n",
      " [2 4]], shape=(2, 2), dtype=int32)\n"
     ]
    }
   ],
   "source": [
    "print(a)"
   ]
  },
  {
   "cell_type": "code",
   "execution_count": 4,
   "id": "9df275f5",
   "metadata": {},
   "outputs": [
    {
     "data": {
      "text/plain": [
       "TensorShape([2, 2])"
      ]
     },
     "execution_count": 4,
     "metadata": {},
     "output_type": "execute_result"
    }
   ],
   "source": [
    "a.shape"
   ]
  },
  {
   "cell_type": "markdown",
   "id": "9cbcfab0",
   "metadata": {},
   "source": [
    "## Variable"
   ]
  },
  {
   "cell_type": "code",
   "execution_count": 8,
   "id": "877e8bec",
   "metadata": {},
   "outputs": [],
   "source": [
    "v=tf.Variable([[4,1],[2,2]])"
   ]
  },
  {
   "cell_type": "code",
   "execution_count": 9,
   "id": "a6aa5c0c",
   "metadata": {},
   "outputs": [
    {
     "data": {
      "text/plain": [
       "<tf.Variable 'Variable:0' shape=(2, 2) dtype=int32, numpy=\n",
       "array([[4, 1],\n",
       "       [2, 2]], dtype=int32)>"
      ]
     },
     "execution_count": 9,
     "metadata": {},
     "output_type": "execute_result"
    }
   ],
   "source": [
    "v"
   ]
  },
  {
   "cell_type": "code",
   "execution_count": 10,
   "id": "fb385a4d",
   "metadata": {},
   "outputs": [
    {
     "data": {
      "text/plain": [
       "TensorShape([2, 2])"
      ]
     },
     "execution_count": 10,
     "metadata": {},
     "output_type": "execute_result"
    }
   ],
   "source": [
    "v.shape"
   ]
  },
  {
   "cell_type": "markdown",
   "id": "89951d7e",
   "metadata": {},
   "source": [
    "## Concat"
   ]
  },
  {
   "cell_type": "code",
   "execution_count": 11,
   "id": "0fe6d2a4",
   "metadata": {},
   "outputs": [],
   "source": [
    "a = tf.constant([[1,2],[3,4]])"
   ]
  },
  {
   "cell_type": "code",
   "execution_count": 13,
   "id": "ef1836dd",
   "metadata": {},
   "outputs": [],
   "source": [
    "b = tf.constant([[5,6],[7,8]])"
   ]
  },
  {
   "cell_type": "code",
   "execution_count": 15,
   "id": "fb21a15d",
   "metadata": {},
   "outputs": [
    {
     "data": {
      "text/plain": [
       "<tf.Tensor: shape=(4, 2), dtype=int32, numpy=\n",
       "array([[1, 2],\n",
       "       [3, 4],\n",
       "       [5, 6],\n",
       "       [7, 8]], dtype=int32)>"
      ]
     },
     "execution_count": 15,
     "metadata": {},
     "output_type": "execute_result"
    }
   ],
   "source": [
    "tf.concat(values=[a,b],axis=0)"
   ]
  },
  {
   "cell_type": "code",
   "execution_count": 16,
   "id": "d34e0cc8",
   "metadata": {},
   "outputs": [
    {
     "data": {
      "text/plain": [
       "<tf.Tensor: shape=(2, 4), dtype=int32, numpy=\n",
       "array([[1, 2, 5, 6],\n",
       "       [3, 4, 7, 8]], dtype=int32)>"
      ]
     },
     "execution_count": 16,
     "metadata": {},
     "output_type": "execute_result"
    }
   ],
   "source": [
    "tf.concat(values=[a,b],axis=1)"
   ]
  },
  {
   "cell_type": "code",
   "execution_count": 18,
   "id": "f1476ac3",
   "metadata": {},
   "outputs": [],
   "source": [
    "c = tf.Variable([[1,2],[3,4]])"
   ]
  },
  {
   "cell_type": "code",
   "execution_count": 19,
   "id": "27b2a478",
   "metadata": {},
   "outputs": [],
   "source": [
    "d = tf.constant([[5,6],[7,8]])"
   ]
  },
  {
   "cell_type": "code",
   "execution_count": 20,
   "id": "47c5f34e",
   "metadata": {},
   "outputs": [
    {
     "data": {
      "text/plain": [
       "<tf.Tensor: shape=(2, 4), dtype=int32, numpy=\n",
       "array([[1, 2, 5, 6],\n",
       "       [3, 4, 7, 8]], dtype=int32)>"
      ]
     },
     "execution_count": 20,
     "metadata": {},
     "output_type": "execute_result"
    }
   ],
   "source": [
    "tf.concat(values=[c,d],axis=1)"
   ]
  },
  {
   "cell_type": "markdown",
   "id": "d7be566b",
   "metadata": {},
   "source": [
    "## Filling tensors"
   ]
  },
  {
   "cell_type": "code",
   "execution_count": 26,
   "id": "655a2bd9",
   "metadata": {},
   "outputs": [],
   "source": [
    "zeros = tf.zeros(shape=[2,3],dtype=tf.int32)"
   ]
  },
  {
   "cell_type": "code",
   "execution_count": 27,
   "id": "aaf6fbcf",
   "metadata": {},
   "outputs": [
    {
     "data": {
      "text/plain": [
       "<tf.Tensor: shape=(2, 3), dtype=int32, numpy=\n",
       "array([[0, 0, 0],\n",
       "       [0, 0, 0]], dtype=int32)>"
      ]
     },
     "execution_count": 27,
     "metadata": {},
     "output_type": "execute_result"
    }
   ],
   "source": [
    "zeros"
   ]
  },
  {
   "cell_type": "code",
   "execution_count": 28,
   "id": "7e2c661c",
   "metadata": {},
   "outputs": [],
   "source": [
    "ones = tf.ones(shape=[3,4], dtype=tf.float16)"
   ]
  },
  {
   "cell_type": "code",
   "execution_count": 29,
   "id": "5a1fd2b0",
   "metadata": {},
   "outputs": [
    {
     "data": {
      "text/plain": [
       "<tf.Tensor: shape=(3, 4), dtype=float16, numpy=\n",
       "array([[1., 1., 1., 1.],\n",
       "       [1., 1., 1., 1.],\n",
       "       [1., 1., 1., 1.]], dtype=float16)>"
      ]
     },
     "execution_count": 29,
     "metadata": {},
     "output_type": "execute_result"
    }
   ],
   "source": [
    "ones"
   ]
  },
  {
   "cell_type": "code",
   "execution_count": 34,
   "id": "5e15410b",
   "metadata": {},
   "outputs": [
    {
     "data": {
      "text/plain": [
       "<tf.Tensor: shape=(4, 3), dtype=float16, numpy=\n",
       "array([[1., 1., 1.],\n",
       "       [1., 1., 1.],\n",
       "       [1., 1., 1.],\n",
       "       [1., 1., 1.]], dtype=float16)>"
      ]
     },
     "execution_count": 34,
     "metadata": {},
     "output_type": "execute_result"
    }
   ],
   "source": [
    "tf.reshape(ones,shape=[4,3])"
   ]
  },
  {
   "cell_type": "code",
   "execution_count": 38,
   "id": "e1741106",
   "metadata": {},
   "outputs": [
    {
     "data": {
      "text/plain": [
       "<tf.Tensor: shape=(2, 4), dtype=float16, numpy=\n",
       "array([[0.966 , 0.288 , 0.3984, 0.2373],\n",
       "       [0.831 , 0.    , 0.4814, 0.4834]], dtype=float16)>"
      ]
     },
     "execution_count": 38,
     "metadata": {},
     "output_type": "execute_result"
    }
   ],
   "source": [
    "tf.random.uniform(shape=[2,4],dtype=tf.float16)"
   ]
  },
  {
   "cell_type": "markdown",
   "id": "06657f14",
   "metadata": {},
   "source": [
    "## Casting"
   ]
  },
  {
   "cell_type": "code",
   "execution_count": 42,
   "id": "66b19df2",
   "metadata": {},
   "outputs": [],
   "source": [
    "float_tensor = tf.constant([[3.1,4.1],[5.1,6.1]], dtype=tf.float16)"
   ]
  },
  {
   "cell_type": "code",
   "execution_count": 43,
   "id": "19576d2a",
   "metadata": {},
   "outputs": [
    {
     "data": {
      "text/plain": [
       "<tf.Tensor: shape=(2, 2), dtype=float16, numpy=\n",
       "array([[3.1, 4.1],\n",
       "       [5.1, 6.1]], dtype=float16)>"
      ]
     },
     "execution_count": 43,
     "metadata": {},
     "output_type": "execute_result"
    }
   ],
   "source": [
    "float_tensor"
   ]
  },
  {
   "cell_type": "code",
   "execution_count": 44,
   "id": "c5a59f6f",
   "metadata": {},
   "outputs": [
    {
     "data": {
      "text/plain": [
       "<tf.Tensor: shape=(2, 2), dtype=int32, numpy=\n",
       "array([[3, 4],\n",
       "       [5, 6]], dtype=int32)>"
      ]
     },
     "execution_count": 44,
     "metadata": {},
     "output_type": "execute_result"
    }
   ],
   "source": [
    "tf.cast(float_tensor, dtype=tf.int32)"
   ]
  },
  {
   "cell_type": "markdown",
   "id": "1e895c21",
   "metadata": {},
   "source": [
    "## Transpose"
   ]
  },
  {
   "cell_type": "code",
   "execution_count": 46,
   "id": "c51fecc6",
   "metadata": {},
   "outputs": [
    {
     "data": {
      "text/plain": [
       "<tf.Tensor: shape=(4, 3), dtype=float16, numpy=\n",
       "array([[1., 1., 1.],\n",
       "       [1., 1., 1.],\n",
       "       [1., 1., 1.],\n",
       "       [1., 1., 1.]], dtype=float16)>"
      ]
     },
     "execution_count": 46,
     "metadata": {},
     "output_type": "execute_result"
    }
   ],
   "source": [
    "tf.transpose(ones)"
   ]
  },
  {
   "cell_type": "markdown",
   "id": "46fd3c74",
   "metadata": {},
   "source": [
    "## Operations"
   ]
  },
  {
   "cell_type": "code",
   "execution_count": 47,
   "id": "754d2960",
   "metadata": {},
   "outputs": [],
   "source": [
    "a = tf.constant([[1,2],[3,4]])"
   ]
  },
  {
   "cell_type": "code",
   "execution_count": 51,
   "id": "4e8df6ff",
   "metadata": {},
   "outputs": [],
   "source": [
    "b = tf.constant([[5],[6]])"
   ]
  },
  {
   "cell_type": "code",
   "execution_count": 56,
   "id": "81085d33",
   "metadata": {},
   "outputs": [],
   "source": [
    "ab = tf.matmul(a,b)"
   ]
  },
  {
   "cell_type": "code",
   "execution_count": 53,
   "id": "a12beda3",
   "metadata": {},
   "outputs": [
    {
     "data": {
      "text/plain": [
       "<tf.Tensor: shape=(2, 1), dtype=int32, numpy=\n",
       "array([[17],\n",
       "       [39]], dtype=int32)>"
      ]
     },
     "execution_count": 53,
     "metadata": {},
     "output_type": "execute_result"
    }
   ],
   "source": [
    "ab"
   ]
  },
  {
   "cell_type": "code",
   "execution_count": 54,
   "id": "fd8497cf",
   "metadata": {},
   "outputs": [
    {
     "data": {
      "text/plain": [
       "<tf.Tensor: shape=(2, 2), dtype=int32, numpy=\n",
       "array([[ 5, 10],\n",
       "       [18, 24]], dtype=int32)>"
      ]
     },
     "execution_count": 54,
     "metadata": {},
     "output_type": "execute_result"
    }
   ],
   "source": [
    "a * b"
   ]
  },
  {
   "cell_type": "markdown",
   "id": "dedef6ad",
   "metadata": {},
   "source": [
    "## Identity matrix"
   ]
  },
  {
   "cell_type": "code",
   "execution_count": 61,
   "id": "0149b5f2",
   "metadata": {},
   "outputs": [
    {
     "data": {
      "text/plain": [
       "<tf.Tensor: shape=(3, 3), dtype=int32, numpy=\n",
       "array([[1, 0, 0],\n",
       "       [0, 1, 0],\n",
       "       [0, 0, 1]], dtype=int32)>"
      ]
     },
     "execution_count": 61,
     "metadata": {},
     "output_type": "execute_result"
    }
   ],
   "source": [
    "tf.eye(num_rows=3,num_columns=3, dtype=tf.int32)"
   ]
  },
  {
   "cell_type": "raw",
   "id": "ffc3461f",
   "metadata": {},
   "source": []
  }
 ],
 "metadata": {
  "kernelspec": {
   "display_name": "Python 3.8 (tensorflow)",
   "language": "python",
   "name": "tensorflow"
  },
  "language_info": {
   "codemirror_mode": {
    "name": "ipython",
    "version": 3
   },
   "file_extension": ".py",
   "mimetype": "text/x-python",
   "name": "python",
   "nbconvert_exporter": "python",
   "pygments_lexer": "ipython3",
   "version": "3.8.8"
  }
 },
 "nbformat": 4,
 "nbformat_minor": 5
}
