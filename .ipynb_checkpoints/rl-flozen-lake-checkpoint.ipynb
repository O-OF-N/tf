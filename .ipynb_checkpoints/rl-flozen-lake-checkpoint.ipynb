{
 "cells": [
  {
   "cell_type": "code",
   "execution_count": 1,
   "id": "0e8a760f",
   "metadata": {},
   "outputs": [],
   "source": [
    "import tensorflow as tf"
   ]
  },
  {
   "cell_type": "code",
   "execution_count": 2,
   "id": "c614c790",
   "metadata": {},
   "outputs": [
    {
     "data": {
      "text/plain": [
       "'2.4.0'"
      ]
     },
     "execution_count": 2,
     "metadata": {},
     "output_type": "execute_result"
    }
   ],
   "source": [
    "tf.__version__"
   ]
  },
  {
   "cell_type": "code",
   "execution_count": 6,
   "id": "4d6c0c92",
   "metadata": {},
   "outputs": [],
   "source": [
    "import numpy as np\n",
    "import gym\n",
    "import random\n",
    "import time\n",
    "from IPython.display import clear_output"
   ]
  },
  {
   "cell_type": "code",
   "execution_count": 51,
   "id": "6a48c3d6",
   "metadata": {},
   "outputs": [],
   "source": [
    "env=gym.make(\"FrozenLake-v0\")"
   ]
  },
  {
   "cell_type": "code",
   "execution_count": 54,
   "id": "31a87f0f",
   "metadata": {},
   "outputs": [
    {
     "data": {
      "text/plain": [
       "['__class__',\n",
       " '__contains__',\n",
       " '__delattr__',\n",
       " '__dict__',\n",
       " '__dir__',\n",
       " '__doc__',\n",
       " '__eq__',\n",
       " '__format__',\n",
       " '__ge__',\n",
       " '__getattribute__',\n",
       " '__gt__',\n",
       " '__hash__',\n",
       " '__init__',\n",
       " '__init_subclass__',\n",
       " '__le__',\n",
       " '__lt__',\n",
       " '__module__',\n",
       " '__ne__',\n",
       " '__new__',\n",
       " '__reduce__',\n",
       " '__reduce_ex__',\n",
       " '__repr__',\n",
       " '__setattr__',\n",
       " '__sizeof__',\n",
       " '__str__',\n",
       " '__subclasshook__',\n",
       " '__weakref__',\n",
       " '_np_random',\n",
       " 'contains',\n",
       " 'dtype',\n",
       " 'from_jsonable',\n",
       " 'n',\n",
       " 'np_random',\n",
       " 'sample',\n",
       " 'seed',\n",
       " 'shape',\n",
       " 'to_jsonable']"
      ]
     },
     "execution_count": 54,
     "metadata": {},
     "output_type": "execute_result"
    }
   ],
   "source": [
    "dir(env.observation_space)"
   ]
  },
  {
   "cell_type": "code",
   "execution_count": 33,
   "id": "29e27a6f",
   "metadata": {},
   "outputs": [
    {
     "name": "stdout",
     "output_type": "stream",
     "text": [
      "[[0. 0. 0. 0.]\n",
      " [0. 0. 0. 0.]\n",
      " [0. 0. 0. 0.]\n",
      " [0. 0. 0. 0.]\n",
      " [0. 0. 0. 0.]\n",
      " [0. 0. 0. 0.]\n",
      " [0. 0. 0. 0.]\n",
      " [0. 0. 0. 0.]\n",
      " [0. 0. 0. 0.]\n",
      " [0. 0. 0. 0.]\n",
      " [0. 0. 0. 0.]\n",
      " [0. 0. 0. 0.]\n",
      " [0. 0. 0. 0.]\n",
      " [0. 0. 0. 0.]\n",
      " [0. 0. 0. 0.]\n",
      " [0. 0. 0. 0.]]\n"
     ]
    }
   ],
   "source": [
    "action_space_size = env.action_space.n\n",
    "state_space_size = env.observation_space.n\n",
    "q_table = np.zeros((state_space_size,action_space_size))\n",
    "print(q_table)"
   ]
  },
  {
   "cell_type": "code",
   "execution_count": 86,
   "id": "c729bce7",
   "metadata": {},
   "outputs": [],
   "source": [
    "num_episodes=20000\n",
    "max_steps_per_episode=200\n",
    "learning_rate=0.1\n",
    "discount_rate=0.99\n",
    "exploration_rate=1\n",
    "max_exploration_rate=1\n",
    "min_exploration_rate=0.01\n",
    "exploration_decay_rate=0.001\n"
   ]
  },
  {
   "cell_type": "code",
   "execution_count": 87,
   "id": "c38be12b",
   "metadata": {},
   "outputs": [],
   "source": [
    "rewards_all_episodes=[]\n",
    "\n",
    "\n",
    "for episode in range(num_episodes):\n",
    "    state = env.reset()\n",
    "    done=False\n",
    "    rewards_in_current_episode=0\n",
    "    for step in range(max_steps_per_episode):        \n",
    "        exploration_rate_threshold = random.uniform(0,1)\n",
    "        if exploration_rate_threshold > exploration_rate:\n",
    "            action = np.argmax(q_table[state,:]) # chooses the highest Q value from the q_table\n",
    "        else:\n",
    "            action = env.action_space.sample()\n",
    "            \n",
    "        new_state, reward, done, info = env.step(action)\n",
    "        \n",
    "        q_table[state,action]=q_table[state,action]*(1-learning_rate)+ learning_rate * (reward+discount_rate * np.max(q_table[new_state, :]))\n",
    "        \n",
    "        state= new_state\n",
    "        rewards_in_current_episode += reward\n",
    "        \n",
    "        if done==True:\n",
    "            break        \n",
    "        \n",
    "    exploration_rate = min_exploration_rate + (max_exploration_rate-min_exploration_rate) * np.exp(-1 * exploration_decay_rate * episode)\n",
    "    rewards_all_episodes.append(rewards_in_current_episode)\n"
   ]
  },
  {
   "cell_type": "code",
   "execution_count": 88,
   "id": "45019832",
   "metadata": {},
   "outputs": [
    {
     "name": "stdout",
     "output_type": "stream",
     "text": [
      "[[0.55122049 0.53385629 0.52902084 0.51961425]\n",
      " [0.24779539 0.33753905 0.39485442 0.52112257]\n",
      " [0.38291231 0.40077559 0.40457896 0.49795872]\n",
      " [0.22077588 0.24760304 0.279402   0.46574986]\n",
      " [0.57680441 0.37926066 0.32844476 0.36577339]\n",
      " [0.         0.         0.         0.        ]\n",
      " [0.15166369 0.15279826 0.36851713 0.1394676 ]\n",
      " [0.         0.         0.         0.        ]\n",
      " [0.34057639 0.4653118  0.40045382 0.60643944]\n",
      " [0.28061943 0.69140163 0.52358231 0.39724227]\n",
      " [0.6436196  0.38210009 0.41769888 0.27340871]\n",
      " [0.         0.         0.         0.        ]\n",
      " [0.         0.         0.         0.        ]\n",
      " [0.25965019 0.6259644  0.77418457 0.48612224]\n",
      " [0.70944437 0.86146243 0.77603009 0.77589124]\n",
      " [0.         0.         0.         0.        ]]\n"
     ]
    }
   ],
   "source": [
    "print(q_table)"
   ]
  },
  {
   "cell_type": "code",
   "execution_count": 89,
   "id": "6aaf3c80",
   "metadata": {},
   "outputs": [],
   "source": [
    "rewards_per_thousand_episodes = np.split(np.array(rewards_all_episodes), num_episodes/1000)"
   ]
  },
  {
   "cell_type": "code",
   "execution_count": 90,
   "id": "99b610a9",
   "metadata": {},
   "outputs": [
    {
     "name": "stdout",
     "output_type": "stream",
     "text": [
      "1000  :  0.04900000000000004\n",
      "2000  :  0.20500000000000015\n",
      "3000  :  0.4220000000000003\n",
      "4000  :  0.5480000000000004\n",
      "5000  :  0.6090000000000004\n",
      "6000  :  0.6520000000000005\n",
      "7000  :  0.6680000000000005\n",
      "8000  :  0.6920000000000005\n",
      "9000  :  0.6810000000000005\n",
      "10000  :  0.6590000000000005\n",
      "11000  :  0.6720000000000005\n",
      "12000  :  0.6600000000000005\n",
      "13000  :  0.7160000000000005\n",
      "14000  :  0.6770000000000005\n",
      "15000  :  0.6850000000000005\n",
      "16000  :  0.6820000000000005\n",
      "17000  :  0.6950000000000005\n",
      "18000  :  0.6840000000000005\n",
      "19000  :  0.6610000000000005\n",
      "20000  :  0.7090000000000005\n"
     ]
    }
   ],
   "source": [
    "count = 1000\n",
    "for r in rewards_per_thousand_episodes:\n",
    "    print(count, \" : \", str(sum(r/1000)))\n",
    "    count+=1000"
   ]
  },
  {
   "cell_type": "code",
   "execution_count": 91,
   "id": "1eba4aed",
   "metadata": {},
   "outputs": [
    {
     "name": "stdout",
     "output_type": "stream",
     "text": [
      "  (Down)\n",
      "SFFF\n",
      "FHFH\n",
      "FFFH\n",
      "HFF\u001b[41mG\u001b[0m\n"
     ]
    }
   ],
   "source": [
    "## Inference"
   ]
  },
  {
   "cell_type": "code",
   "execution_count": null,
   "id": "71496f40",
   "metadata": {},
   "outputs": [],
   "source": [
    "for episode in range(3):\n",
    "    state = env.reset()\n",
    "    done=False\n",
    "    print(\"** Episode : \", episode+1, \"**\\n\")\n",
    "    time.sleep(1)\n",
    "    for step in range(max_steps_per_episode):      \n",
    "        clear_output(wait=True)\n",
    "        env.render()\n",
    "        time.sleep(0.3)\n",
    "        action = np.argmax(q_table[state,:])     \n",
    "        new_state, reward, done, info = env.step(action)\n",
    "                \n",
    "        rewards_in_current_episode += reward\n",
    "        \n",
    "        if done==True:\n",
    "            clear_output(wait=True)\n",
    "            env.render()\n",
    "            if reward==1:\n",
    "                print(\"*Goal*\")\n",
    "                time.sleep(3)\n",
    "            else:\n",
    "                print(\"*Hole*\")\n",
    "                time.sleep(3)\n",
    "            clear_output(wait=True)\n",
    "            break        \n",
    "        state= new_state\n",
    "        \n",
    "env.close()"
   ]
  },
  {
   "cell_type": "code",
   "execution_count": null,
   "id": "dfb9091c",
   "metadata": {},
   "outputs": [],
   "source": []
  }
 ],
 "metadata": {
  "kernelspec": {
   "display_name": "Python 3.8 (tensorflow)",
   "language": "python",
   "name": "tensorflow"
  },
  "language_info": {
   "codemirror_mode": {
    "name": "ipython",
    "version": 3
   },
   "file_extension": ".py",
   "mimetype": "text/x-python",
   "name": "python",
   "nbconvert_exporter": "python",
   "pygments_lexer": "ipython3",
   "version": "3.7.10"
  }
 },
 "nbformat": 4,
 "nbformat_minor": 5
}
