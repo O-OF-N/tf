{
 "cells": [
  {
   "cell_type": "code",
   "execution_count": 96,
   "id": "bfe42af3",
   "metadata": {},
   "outputs": [],
   "source": [
    "import tensorflow as tf"
   ]
  },
  {
   "cell_type": "code",
   "execution_count": 97,
   "id": "a968cd75",
   "metadata": {},
   "outputs": [
    {
     "data": {
      "text/plain": [
       "'2.4.0'"
      ]
     },
     "execution_count": 97,
     "metadata": {},
     "output_type": "execute_result"
    }
   ],
   "source": [
    "tf.__version__"
   ]
  },
  {
   "cell_type": "code",
   "execution_count": 98,
   "id": "9e59ebb0",
   "metadata": {},
   "outputs": [],
   "source": [
    "import numpy as np\n",
    "import gym\n",
    "import random\n",
    "import time\n",
    "from IPython.display import clear_output"
   ]
  },
  {
   "cell_type": "code",
   "execution_count": 99,
   "id": "d33d72d2",
   "metadata": {},
   "outputs": [],
   "source": [
    "env=gym.make(\"FrozenLake-v0\")"
   ]
  },
  {
   "cell_type": "code",
   "execution_count": 100,
   "id": "aa5cb518",
   "metadata": {},
   "outputs": [
    {
     "name": "stdout",
     "output_type": "stream",
     "text": [
      "[[0. 0. 0. 0.]\n",
      " [0. 0. 0. 0.]\n",
      " [0. 0. 0. 0.]\n",
      " [0. 0. 0. 0.]\n",
      " [0. 0. 0. 0.]\n",
      " [0. 0. 0. 0.]\n",
      " [0. 0. 0. 0.]\n",
      " [0. 0. 0. 0.]\n",
      " [0. 0. 0. 0.]\n",
      " [0. 0. 0. 0.]\n",
      " [0. 0. 0. 0.]\n",
      " [0. 0. 0. 0.]\n",
      " [0. 0. 0. 0.]\n",
      " [0. 0. 0. 0.]\n",
      " [0. 0. 0. 0.]\n",
      " [0. 0. 0. 0.]]\n"
     ]
    }
   ],
   "source": [
    "action_space_size = env.action_space.n\n",
    "state_space_size = env.observation_space.n\n",
    "q_table = np.zeros((state_space_size,action_space_size))\n",
    "print(q_table)"
   ]
  },
  {
   "cell_type": "code",
   "execution_count": 101,
   "id": "95feab17",
   "metadata": {},
   "outputs": [],
   "source": [
    "num_episodes=20000\n",
    "max_steps_per_episode=200\n",
    "learning_rate=0.1\n",
    "discount_rate=0.99\n",
    "exploration_rate=1\n",
    "max_exploration_rate=1\n",
    "min_exploration_rate=0.01\n",
    "exploration_decay_rate=0.001\n"
   ]
  },
  {
   "cell_type": "code",
   "execution_count": 102,
   "id": "0f79a736",
   "metadata": {},
   "outputs": [],
   "source": [
    "rewards_all_episodes=[]\n",
    "\n",
    "\n",
    "for episode in range(num_episodes):\n",
    "    state = env.reset()\n",
    "    done=False\n",
    "    rewards_in_current_episode=0\n",
    "    for step in range(max_steps_per_episode):        \n",
    "        exploration_rate_threshold = random.uniform(0,1)\n",
    "        if exploration_rate_threshold > exploration_rate:\n",
    "            action = np.argmax(q_table[state,:]) # chooses the highest Q value from the q_table\n",
    "        else:\n",
    "            action = env.action_space.sample()\n",
    "            \n",
    "        new_state, reward, done, info = env.step(action)\n",
    "        \n",
    "        q_table[state,action]=q_table[state,action]*(1-learning_rate)+ learning_rate * (reward+discount_rate * np.max(q_table[new_state, :]))\n",
    "        \n",
    "        state= new_state\n",
    "        rewards_in_current_episode += reward\n",
    "        \n",
    "        if done==True:\n",
    "            break        \n",
    "        \n",
    "    exploration_rate = min_exploration_rate + (max_exploration_rate-min_exploration_rate) * np.exp(-1 * exploration_decay_rate * episode)\n",
    "    rewards_all_episodes.append(rewards_in_current_episode)\n"
   ]
  },
  {
   "cell_type": "code",
   "execution_count": 103,
   "id": "c938fe14",
   "metadata": {},
   "outputs": [
    {
     "name": "stdout",
     "output_type": "stream",
     "text": [
      "[[0.5194077  0.51562204 0.5007771  0.51500113]\n",
      " [0.28577758 0.31541652 0.28156082 0.48590408]\n",
      " [0.3885722  0.22298445 0.24441882 0.25656546]\n",
      " [0.06495436 0.12156498 0.00125298 0.0590754 ]\n",
      " [0.52981897 0.40088994 0.33511423 0.3450728 ]\n",
      " [0.         0.         0.         0.        ]\n",
      " [0.14742769 0.17542188 0.24405786 0.05825399]\n",
      " [0.         0.         0.         0.        ]\n",
      " [0.47067141 0.39214867 0.4863353  0.56125581]\n",
      " [0.43337317 0.60552734 0.41785305 0.41810386]\n",
      " [0.65523391 0.40628195 0.41868659 0.25914597]\n",
      " [0.         0.         0.         0.        ]\n",
      " [0.         0.         0.         0.        ]\n",
      " [0.37522895 0.66515493 0.76612986 0.52779697]\n",
      " [0.72911076 0.88935133 0.76228992 0.78859803]\n",
      " [0.         0.         0.         0.        ]]\n"
     ]
    }
   ],
   "source": [
    "print(q_table)"
   ]
  },
  {
   "cell_type": "code",
   "execution_count": 104,
   "id": "2add23ea",
   "metadata": {},
   "outputs": [],
   "source": [
    "rewards_per_thousand_episodes = np.split(np.array(rewards_all_episodes), num_episodes/1000)"
   ]
  },
  {
   "cell_type": "code",
   "execution_count": 105,
   "id": "d0fa6c1b",
   "metadata": {},
   "outputs": [
    {
     "name": "stdout",
     "output_type": "stream",
     "text": [
      "1000  :  0.03900000000000003\n",
      "2000  :  0.18800000000000014\n",
      "3000  :  0.4180000000000003\n",
      "4000  :  0.5610000000000004\n",
      "5000  :  0.6010000000000004\n",
      "6000  :  0.6340000000000005\n",
      "7000  :  0.6650000000000005\n",
      "8000  :  0.6890000000000005\n",
      "9000  :  0.6670000000000005\n",
      "10000  :  0.6660000000000005\n",
      "11000  :  0.6990000000000005\n",
      "12000  :  0.6960000000000005\n",
      "13000  :  0.6650000000000005\n",
      "14000  :  0.6800000000000005\n",
      "15000  :  0.6650000000000005\n",
      "16000  :  0.6880000000000005\n",
      "17000  :  0.6910000000000005\n",
      "18000  :  0.6760000000000005\n",
      "19000  :  0.6800000000000005\n",
      "20000  :  0.6870000000000005\n"
     ]
    }
   ],
   "source": [
    "count = 1000\n",
    "for r in rewards_per_thousand_episodes:\n",
    "    print(count, \" : \", str(sum(r/1000)))\n",
    "    count+=1000"
   ]
  },
  {
   "cell_type": "code",
   "execution_count": 106,
   "id": "25564726",
   "metadata": {},
   "outputs": [],
   "source": [
    "## Inference"
   ]
  },
  {
   "cell_type": "code",
   "execution_count": 108,
   "id": "d8dcac4d",
   "metadata": {},
   "outputs": [
    {
     "name": "stdout",
     "output_type": "stream",
     "text": [
      "  (Down)\n",
      "SFFF\n",
      "FHFH\n",
      "FFFH\n",
      "HFF\u001b[41mG\u001b[0m\n",
      "*Goal*\n"
     ]
    }
   ],
   "source": [
    "for episode in range(3):\n",
    "    state = env.reset()\n",
    "    done=False\n",
    "    print(\"** Episode : \", episode+1, \"**\\n\")\n",
    "    time.sleep(1)\n",
    "    for step in range(max_steps_per_episode):      \n",
    "        clear_output(wait=True)\n",
    "        env.render()\n",
    "        time.sleep(0.3)\n",
    "        action = np.argmax(q_table[state,:])     \n",
    "        new_state, reward, done, info = env.step(action)\n",
    "                \n",
    "        rewards_in_current_episode += reward\n",
    "        \n",
    "        if done==True:\n",
    "            clear_output(wait=True)\n",
    "            env.render()\n",
    "            if reward==1:\n",
    "                print(\"*Goal*\")\n",
    "                time.sleep(3)\n",
    "            else:\n",
    "                print(\"*Hole*\")\n",
    "                time.sleep(3)\n",
    "            clear_output(wait=True)\n",
    "            break        \n",
    "        state= new_state\n",
    "        \n",
    "env.close()"
   ]
  },
  {
   "cell_type": "code",
   "execution_count": null,
   "id": "f24065ce",
   "metadata": {},
   "outputs": [],
   "source": []
  }
 ],
 "metadata": {
  "kernelspec": {
   "display_name": "Python 3.8 (tensorflow)",
   "language": "python",
   "name": "tensorflow"
  },
  "language_info": {
   "codemirror_mode": {
    "name": "ipython",
    "version": 3
   },
   "file_extension": ".py",
   "mimetype": "text/x-python",
   "name": "python",
   "nbconvert_exporter": "python",
   "pygments_lexer": "ipython3",
   "version": "3.7.10"
  }
 },
 "nbformat": 4,
 "nbformat_minor": 5
}
